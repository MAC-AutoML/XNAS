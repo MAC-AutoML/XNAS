{
 "cells": [
  {
   "cell_type": "code",
   "execution_count": 3,
   "metadata": {},
   "outputs": [
    {
     "name": "stdout",
     "output_type": "stream",
     "text": [
      "try to create the NAS-Bench-201 api from ./NAS-Bench-201-v1_0-e61699.pth\n",
      "done.\n"
     ]
    }
   ],
   "source": [
    "import copy\n",
    "from scipy import stats\n",
    "import numpy as np\n",
    "import sampler.sampling as sampling\n",
    "from nas_201_api import NASBench201API as api\n",
    "\n",
    "nb201_api = api('./NAS-Bench-201-v1_0-e61699.pth')\n",
    "print('done.')"
   ]
  },
  {
   "cell_type": "code",
   "execution_count": 4,
   "metadata": {},
   "outputs": [],
   "source": [
    "\n",
    "def get_acc_valid(dataset, index):\n",
    "    \"\"\"dataset in 'cifar10', 'cifar100', 'imgagenet'.\"\"\"\n",
    "    strings = nb201_api.query_by_arch(nb201_api.arch(index))\n",
    "    strings = strings.split('\\n')\n",
    "    if dataset == 'cifar10':\n",
    "        cifar10_valid_res = strings[3]\n",
    "        startpoint = cifar10_valid_res.find('valid : [loss = ') + len('valid : [loss = ')\n",
    "        toppoint = cifar10_valid_res.find('top1 = ', startpoint) + len('top1 = ')\n",
    "        endpoint = cifar10_valid_res.find('%]', toppoint)\n",
    "        ans = cifar10_valid_res[toppoint:endpoint]\n",
    "        return float(ans)\n",
    "    elif dataset == 'cifar100':\n",
    "        cifar100_res = strings[7]\n",
    "        startpoint = cifar100_res.find('valid : [loss = ') + len('valid : [loss = ')\n",
    "        toppoint = cifar100_res.find('top1 = ', startpoint) + len('top1 = ')\n",
    "        endpoint = cifar100_res.find('%]', toppoint)\n",
    "        ans = cifar100_res[toppoint:endpoint]\n",
    "        return float(ans)\n",
    "    elif dataset == 'imagenet':\n",
    "        imagenet_res = strings[9]\n",
    "        startpoint = imagenet_res.find('valid : [loss = ') + len('valid : [loss = ')\n",
    "        toppoint = imagenet_res.find('top1 = ', startpoint) + len('top1 = ')\n",
    "        endpoint = imagenet_res.find('%]', toppoint)\n",
    "        ans = imagenet_res[toppoint:endpoint]\n",
    "        return float(ans)\n",
    "    else:\n",
    "        print('dataset error')\n",
    "        exit(1)\n",
    "\n",
    "def get_acc_test(dataset, index):\n",
    "    \"\"\"dataset in 'cifar10', 'cifar100', 'imgagenet'.\"\"\"\n",
    "    strings = nb201_api.query_by_arch(nb201_api.arch(index))\n",
    "    strings = strings.split('\\n')\n",
    "    if dataset == 'cifar10':\n",
    "        cifar10_test_res = strings[5]\n",
    "        startpoint = cifar10_test_res.find('test  : [loss = ') + len('test  : [loss = ')\n",
    "        toppoint = cifar10_test_res.find('top1 = ', startpoint) + len('top1 = ')\n",
    "        endpoint = cifar10_test_res.find('%]', toppoint)\n",
    "        ans = cifar10_test_res[toppoint:endpoint]\n",
    "        return float(ans)\n",
    "    elif dataset == 'cifar100':\n",
    "        cifar100_res = strings[7]\n",
    "        startpoint = cifar100_res.find('test : [loss = ') + len('test : [loss = ')\n",
    "        toppoint = cifar100_res.find('top1 = ', startpoint) + len('top1 = ')\n",
    "        endpoint = cifar100_res.find('%]', toppoint)\n",
    "        ans = cifar100_res[toppoint:endpoint]\n",
    "        return float(ans)\n",
    "    elif dataset == 'imagenet':\n",
    "        imagenet_res = strings[9]\n",
    "        startpoint = imagenet_res.find('test : [loss = ') + len('test : [loss = ')\n",
    "        toppoint = imagenet_res.find('top1 = ', startpoint) + len('top1 = ')\n",
    "        endpoint = imagenet_res.find('%]', toppoint)\n",
    "        ans = imagenet_res[toppoint:endpoint]\n",
    "        return float(ans)\n",
    "    else:\n",
    "        print('dataset error')\n",
    "        exit(1)\n"
   ]
  },
  {
   "cell_type": "code",
   "execution_count": 5,
   "metadata": {},
   "outputs": [],
   "source": [
    "cifar10_valid = []\n",
    "cifar100_valid = []\n",
    "imagenet_valid = []\n",
    "\n",
    "cifar10_test = []\n",
    "cifar100_test = []\n",
    "imagenet_test = []\n",
    "\n",
    "for i in range(15625):\n",
    "    cifar10_valid.append(get_acc_valid('cifar10', i))\n",
    "    cifar100_valid.append(get_acc_valid('cifar100', i))\n",
    "    imagenet_valid.append(get_acc_valid('imagenet', i))\n",
    "    cifar10_test.append(get_acc_test('cifar10', i))\n",
    "    cifar100_test.append(get_acc_test('cifar100', i))\n",
    "    imagenet_test.append(get_acc_test('imagenet', i))\n",
    "    \n",
    "\n",
    "cifar10_valid_sort = copy.deepcopy(cifar10_valid)\n",
    "cifar10_valid_sort.sort(reverse=True)\n",
    "cifar100_valid_sort = copy.deepcopy(cifar100_valid)\n",
    "cifar100_valid_sort.sort(reverse=True)\n",
    "imagenet_valid_sort = copy.deepcopy(imagenet_valid)\n",
    "imagenet_valid_sort.sort(reverse=True)\n",
    "\n",
    "cifar10_test_sort = copy.deepcopy(cifar10_test)\n",
    "cifar10_test_sort.sort(reverse=True)\n",
    "cifar100_test_sort = copy.deepcopy(cifar100_test)\n",
    "cifar100_test_sort.sort(reverse=True)\n",
    "imagenet_test_sort = copy.deepcopy(imagenet_test)\n",
    "imagenet_test_sort.sort(reverse=True)"
   ]
  },
  {
   "cell_type": "code",
   "execution_count": 5,
   "metadata": {},
   "outputs": [
    {
     "name": "stdout",
     "output_type": "stream",
     "text": [
      "valid\n",
      "acc_cifar10: 91.22, rank_cifar10: 43\n",
      "acc_cifar100: 71.97, rank_cifar100: 45\n",
      "acc_imgnet16: 45.59, rank_imgnet16: 71\n",
      "test\n",
      "acc_cifar10: 93.98, rank_cifar10: 48\n",
      "acc_cifar100: 71.69, rank_cifar100: 79\n",
      "acc_imgnet16: 45.82, rank_imgnet16: 66\n"
     ]
    }
   ],
   "source": [
    "res = [2,3,3,1,0,3]\n",
    "\n",
    "\n",
    "import numpy as np\n",
    "\n",
    "def array2genostr(arr):\n",
    "    OPS = [\"none\", \"skip_connect\", \"nor_conv_1x1\", \"nor_conv_3x3\", \"avg_pool_3x3\"]\n",
    "    idx = [list(i).index(1.) for i in arr]\n",
    "    op = [OPS[x] for x in idx]\n",
    "    mixed = '|' + op[0] + '~0|+|' + op[1] + '~0|' + op[2] + '~1|+|' + op[3] + '~0|' + op[4] + '~1|' + op[5] + '~2|'\n",
    "    return mixed\n",
    "\n",
    "_tmp_np = np.array(res)\n",
    "_tmp_oh = np.zeros((_tmp_np.size, 5))\n",
    "_tmp_oh[np.arange(_tmp_np.size),_tmp_np] = 1\n",
    "# print(_tmp_oh)\n",
    "geno_str = array2genostr(_tmp_oh)\n",
    "#     print(geno_str)\n",
    "index = nb201_api.query_index_by_arch(geno_str)\n",
    "# print(index)\n",
    "\n",
    "print('valid')\n",
    "print('acc_cifar10: {}, rank_cifar10: {}'.format(cifar10_valid[index], cifar10_valid_sort.index(cifar10_valid[index])))\n",
    "print('acc_cifar100: {}, rank_cifar100: {}'.format(cifar100_valid[index], cifar100_valid_sort.index(cifar100_valid[index])))\n",
    "print('acc_imgnet16: {}, rank_imgnet16: {}'.format(imagenet_valid[index], imagenet_valid_sort.index(imagenet_valid[index])))\n",
    "\n",
    "print('test')\n",
    "print('acc_cifar10: {}, rank_cifar10: {}'.format(cifar10_test[index], cifar10_test_sort.index(cifar10_test[index])))\n",
    "print('acc_cifar100: {}, rank_cifar100: {}'.format(cifar100_test[index], cifar100_test_sort.index(cifar100_test[index])))\n",
    "print('acc_imgnet16: {}, rank_imgnet16: {}'.format(imagenet_test[index], imagenet_test_sort.index(imagenet_test[index])))\n"
   ]
  }
 ],
 "metadata": {
  "kernelspec": {
   "display_name": "Python 3",
   "language": "python",
   "name": "python3"
  },
  "language_info": {
   "codemirror_mode": {
    "name": "ipython",
    "version": 3
   },
   "file_extension": ".py",
   "mimetype": "text/x-python",
   "name": "python",
   "nbconvert_exporter": "python",
   "pygments_lexer": "ipython3",
   "version": "3.6.9"
  }
 },
 "nbformat": 4,
 "nbformat_minor": 4
}
